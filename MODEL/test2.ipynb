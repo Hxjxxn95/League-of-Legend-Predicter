{
 "cells": [
  {
   "cell_type": "code",
   "execution_count": 1,
   "metadata": {},
   "outputs": [
    {
     "name": "stdout",
     "output_type": "stream",
     "text": [
      "MyLSTM(\n",
      "  (lstm): LSTM(70, 32, batch_first=True)\n",
      "  (fc): Linear(in_features=32, out_features=1, bias=True)\n",
      ")\n"
     ]
    }
   ],
   "source": [
    "import torch\n",
    "import torch.nn as nn\n",
    "import numpy as np\n",
    "import torch.optim as optim\n",
    "from sklearn.metrics import classification_report\n",
    "from pprint import pprint\n",
    "\n",
    "class MyLSTM(nn.Module):\n",
    "    def __init__(self, input_size, hidden_size, num_layers, output_size):\n",
    "        super(MyLSTM, self).__init__()\n",
    "\n",
    "        self.lstm = nn.LSTM(input_size=input_size, hidden_size=hidden_size, num_layers=num_layers, batch_first=True)\n",
    "\n",
    "        # Fully connected layer\n",
    "        self.fc = nn.Linear(hidden_size, output_size)\n",
    "\n",
    "    def forward(self, x):\n",
    "        # LSTM layer\n",
    "        out, _ = self.lstm(x)\n",
    "\n",
    "        # Take the output from the last time step\n",
    "        out = out[:, -1, :]\n",
    "\n",
    "        # Fully connected layer\n",
    "        out = self.fc(out)\n",
    "\n",
    "        return out\n",
    "\n",
    "# 모델 생성\n",
    "input_size = 70  # 입력 데이터의 피쳐 수\n",
    "hidden_size = 32  # LSTM의 hidden state 크기\n",
    "num_layers = 1    # LSTM 레이어의 수\n",
    "output_size = 1   # 출력의 크기\n",
    "\n",
    "model = MyLSTM(input_size, hidden_size, num_layers, output_size)\n",
    "\n",
    "print(model)"
   ]
  },
  {
   "cell_type": "code",
   "execution_count": 2,
   "metadata": {},
   "outputs": [],
   "source": [
    "testX = np.load('testX.npy')\n",
    "testY = np.load('testY.npy')\n",
    "trainX = np.load('trainX.npy')\n",
    "trainY = np.load('trainY.npy')\n",
    "\n",
    "trainX_tensor = torch.FloatTensor(trainX)\n",
    "trainY_tensor = torch.FloatTensor(trainY)\n",
    "testX_tensor = torch.FloatTensor(testX)\n",
    "testY_tensor = torch.FloatTensor(testY)"
   ]
  },
  {
   "cell_type": "code",
   "execution_count": 3,
   "metadata": {},
   "outputs": [],
   "source": [
    "\n",
    "# 손실 함수 및 최적화 알고리즘 정의\n",
    "criterion = nn.MSELoss()\n",
    "optimizer = optim.Adam(model.parameters(), lr=0.00001)\n",
    "\n",
    "# 훈련\n",
    "num_epochs = 10\n",
    "\n",
    "for epoch in range(num_epochs):\n",
    "    # Forward pass\n",
    "    outputs = model(trainX_tensor.float())\n",
    "    # 손실 계산\n",
    "    loss = criterion(outputs, trainY_tensor.float())\n",
    "    # Backward pass 및 최적화\n",
    "    optimizer.zero_grad()\n",
    "    loss.backward()\n",
    "    optimizer.step()\n"
   ]
  },
  {
   "cell_type": "code",
   "execution_count": null,
   "metadata": {},
   "outputs": [],
   "source": []
  },
  {
   "cell_type": "code",
   "execution_count": 4,
   "metadata": {},
   "outputs": [
    {
     "name": "stdout",
     "output_type": "stream",
     "text": [
      "(1895, 1)\n",
      "0.16119134\n",
      "-0.8117335\n"
     ]
    }
   ],
   "source": [
    "\n",
    "predY = model(testX_tensor.float()).data.numpy()\n",
    "print(predY.shape)\n",
    "print(predY.max())\n",
    "print(predY.min())"
   ]
  },
  {
   "cell_type": "code",
   "execution_count": 5,
   "metadata": {},
   "outputs": [
    {
     "name": "stdout",
     "output_type": "stream",
     "text": [
      "{'0.0': {'f1-score': 0.6776268763402429,\n",
      "         'precision': 0.5169029443838604,\n",
      "         'recall': 0.983402489626556,\n",
      "         'support': 964.0},\n",
      " '1.0': {'f1-score': 0.0907258064516129,\n",
      "         'precision': 0.7377049180327869,\n",
      "         'recall': 0.04833512352309345,\n",
      "         'support': 931.0},\n",
      " 'accuracy': 0.5240105540897098,\n",
      " 'macro avg': {'f1-score': 0.3841763413959279,\n",
      "               'precision': 0.6273039312083237,\n",
      "               'recall': 0.5158688065748247,\n",
      "               'support': 1895.0},\n",
      " 'weighted avg': {'f1-score': 0.38928656179337506,\n",
      "                  'precision': 0.6253813810419874,\n",
      "                  'recall': 0.5240105540897098,\n",
      "                  'support': 1895.0}}\n"
     ]
    }
   ],
   "source": [
    "for i in range(len(predY)):\n",
    "    if predY[i] > 0:\n",
    "        predY[i] = 1\n",
    "    else:\n",
    "        predY[i] = 0\n",
    "result= classification_report(testY_tensor, predY, output_dict=True) \n",
    "pprint(result)"
   ]
  },
  {
   "cell_type": "code",
   "execution_count": null,
   "metadata": {},
   "outputs": [],
   "source": []
  }
 ],
 "metadata": {
  "kernelspec": {
   "display_name": "Python 3",
   "language": "python",
   "name": "python3"
  },
  "language_info": {
   "codemirror_mode": {
    "name": "ipython",
    "version": 3
   },
   "file_extension": ".py",
   "mimetype": "text/x-python",
   "name": "python",
   "nbconvert_exporter": "python",
   "pygments_lexer": "ipython3",
   "version": "3.8.10"
  }
 },
 "nbformat": 4,
 "nbformat_minor": 2
}
