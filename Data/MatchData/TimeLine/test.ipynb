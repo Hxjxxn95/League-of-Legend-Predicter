{
 "cells": [
  {
   "cell_type": "code",
   "execution_count": 2,
   "metadata": {},
   "outputs": [
    {
     "name": "stdout",
     "output_type": "stream",
     "text": [
      "TRAIN: 183705  TEST:  45995\n",
      "Classification Report:\n"
     ]
    }
   ],
   "source": [
    "### Edit Here ###\n",
    "\n",
    "# import your machine learning model from sklearn\n",
    "from sklearn.svm import SVC\n",
    "from sklearn.model_selection import train_test_split\n",
    "from sklearn.metrics import accuracy_score\n",
    "from sklearn.metrics import classification_report\n",
    "import pandas as pd\n",
    "import numpy as np\n",
    "from sklearn.feature_extraction.text import CountVectorizer\n",
    "from sklearn.model_selection import StratifiedGroupKFold\n",
    "\n",
    "def main():\n",
    "    \n",
    "    # read data\n",
    "    data = pd.read_csv('match_data.csv')\n",
    "    cv = StratifiedGroupKFold(n_splits=5, shuffle=True, random_state=2023)\n",
    "    \n",
    "    for i, (train_idxs, test_idxs) in enumerate(cv.split(data, data['blueWins'], data['gameId'])):\n",
    "        if i == 0:\n",
    "            print(\"TRAIN:\", len(train_idxs), \" TEST: \", len(test_idxs))\n",
    "            break   \n",
    "    train = data.iloc[train_idxs]\n",
    "    test = data.iloc[test_idxs]\n",
    "    # data: select features\n",
    "    X_train = train.drop(['blueWins'], axis=1) # 데이터\n",
    "    y_train = train['blueWins'] # 훈련에 들어가는 라벨\n",
    "    X_test = test.drop(['blueWins'], axis=1) # 테스트할 데이터\n",
    "    y_test = test['blueWins'] # 테스트 데이터 실제 라벨\n",
    "    # label: class_type column\n",
    "    #label = t['blueWins']\n",
    "    # split train set, test set (train:test = 8:2)\n",
    "    #X_train, X_test, y_train, y_test = train_test_split(train, label, test_size=0.2, random_state=23)\n",
    "    \n",
    "    print('Classification Report:')\n",
    "    svm_model = SVC(random_state=23, kernel='rbf', C=1.0, gamma='auto') \n",
    "    svm_model.fit(X_train, y_train)\n",
    "    y_pred = svm_model.predict(X_test)\n",
    "\n",
    "    # classification\n",
    "    print(classification_report(y_test, y_pred,digits=2))\n",
    "\n",
    "\n",
    "\n",
    "\n",
    "    \n",
    "if __name__ == \"__main__\":\n",
    "    main()"
   ]
  },
  {
   "cell_type": "code",
   "execution_count": null,
   "metadata": {},
   "outputs": [],
   "source": []
  }
 ],
 "metadata": {
  "kernelspec": {
   "display_name": "Python 3",
   "language": "python",
   "name": "python3"
  },
  "language_info": {
   "codemirror_mode": {
    "name": "ipython",
    "version": 3
   },
   "file_extension": ".py",
   "mimetype": "text/x-python",
   "name": "python",
   "nbconvert_exporter": "python",
   "pygments_lexer": "ipython3",
   "version": "3.11.6"
  }
 },
 "nbformat": 4,
 "nbformat_minor": 2
}
