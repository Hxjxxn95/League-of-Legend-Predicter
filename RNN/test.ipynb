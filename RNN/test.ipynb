{
 "cells": [
  {
   "cell_type": "code",
   "execution_count": 6,
   "metadata": {},
   "outputs": [],
   "source": [
    "import os\n",
    "os.add_dll_directory(\"C:/Program Files/NVIDIA GPU Computing Toolkit/CUDA/v11.8/bin\")\n",
    "import pandas as pd\n",
    "import numpy as np\n",
    "import matplotlib.pyplot as plt\n",
    "import tensorflow as tf\n",
    "from sklearn.preprocessing import MinMaxScaler\n",
    "from keras.models import Sequential\n",
    "from keras.layers import Dense\n",
    "from keras.layers import LSTM\n",
    "from keras.layers import Dropout\n",
    "from keras.layers import Activation\n",
    "from keras.models import load_model\n",
    "from tensorflow.python.client import device_lib \n",
    "from keras.optimizers import Adam\n",
    "from keras import backend as K\n"
   ]
  },
  {
   "cell_type": "code",
   "execution_count": 7,
   "metadata": {},
   "outputs": [
    {
     "data": {
      "text/plain": [
       "'2.10.0'"
      ]
     },
     "execution_count": 7,
     "metadata": {},
     "output_type": "execute_result"
    }
   ],
   "source": [
    "tf.__version__"
   ]
  },
  {
   "cell_type": "code",
   "execution_count": 8,
   "metadata": {},
   "outputs": [
    {
     "data": {
      "text/plain": [
       "[name: \"/device:CPU:0\"\n",
       " device_type: \"CPU\"\n",
       " memory_limit: 268435456\n",
       " locality {\n",
       " }\n",
       " incarnation: 1144613276012252105\n",
       " xla_global_id: -1,\n",
       " name: \"/device:GPU:0\"\n",
       " device_type: \"GPU\"\n",
       " memory_limit: 10197401600\n",
       " locality {\n",
       "   bus_id: 1\n",
       "   links {\n",
       "   }\n",
       " }\n",
       " incarnation: 14900655762290774127\n",
       " physical_device_desc: \"device: 0, name: NVIDIA GeForce RTX 3060, pci bus id: 0000:2b:00.0, compute capability: 8.6\"\n",
       " xla_global_id: 416903419]"
      ]
     },
     "execution_count": 8,
     "metadata": {},
     "output_type": "execute_result"
    }
   ],
   "source": [
    "device_lib.list_local_devices()"
   ]
  },
  {
   "cell_type": "code",
   "execution_count": 9,
   "metadata": {},
   "outputs": [],
   "source": [
    "trainX = np.load('trainX.npy')\n",
    "trainY = np.load('trainY.npy')\n",
    "testX = np.load('testX.npy')\n",
    "testY = np.load('testY.npy')"
   ]
  },
  {
   "cell_type": "markdown",
   "metadata": {},
   "source": []
  },
  {
   "cell_type": "code",
   "execution_count": 10,
   "metadata": {},
   "outputs": [],
   "source": [
    "epochs = 1\n",
    "model = Sequential()\n",
    "K.clear_session()\n",
    "\n"
   ]
  },
  {
   "cell_type": "code",
   "execution_count": null,
   "metadata": {},
   "outputs": [],
   "source": []
  },
  {
   "cell_type": "code",
   "execution_count": 11,
   "metadata": {},
   "outputs": [
    {
     "name": "stdout",
     "output_type": "stream",
     "text": [
      "6821/6821 [==============================] - 120s 17ms/step - loss: 0.6781 - val_loss: 0.6557\n",
      "Model: \"sequential\"\n",
      "_________________________________________________________________\n",
      " Layer (type)                Output Shape              Param #   \n",
      "=================================================================\n",
      " lstm (LSTM)                 (None, 25, 1024)          4444160   \n",
      "                                                                 \n",
      " dropout (Dropout)           (None, 25, 1024)          0         \n",
      "                                                                 \n",
      " lstm_1 (LSTM)               (None, 25, 512)           3147776   \n",
      "                                                                 \n",
      " dropout_1 (Dropout)         (None, 25, 512)           0         \n",
      "                                                                 \n",
      " lstm_2 (LSTM)               (None, 25, 256)           787456    \n",
      "                                                                 \n",
      " dropout_2 (Dropout)         (None, 25, 256)           0         \n",
      "                                                                 \n",
      " lstm_3 (LSTM)               (None, 25, 128)           197120    \n",
      "                                                                 \n",
      " dropout_3 (Dropout)         (None, 25, 128)           0         \n",
      "                                                                 \n",
      " lstm_4 (LSTM)               (None, 25, 64)            49408     \n",
      "                                                                 \n",
      " time_distributed (TimeDistr  (None, 25, 1)            65        \n",
      " ibuted)                                                         \n",
      "                                                                 \n",
      "=================================================================\n",
      "Total params: 8,625,985\n",
      "Trainable params: 8,625,985\n",
      "Non-trainable params: 0\n",
      "_________________________________________________________________\n"
     ]
    }
   ],
   "source": [
    "from keras.callbacks import EarlyStopping\n",
    "from keras.layers import TimeDistributed\n",
    "early_stopping = EarlyStopping(monitor='val_loss', patience=1, mode='min', restore_best_weights=True)\n",
    "\n",
    "model.add(LSTM(units=1024, return_sequences=True, input_shape=(trainX.shape[1], trainX.shape[2])))\n",
    "model.add(Dropout(0.2))\n",
    "model.add(LSTM(units=512, return_sequences=True))\n",
    "model.add(Dropout(0.2))\n",
    "model.add(LSTM(units=256, return_sequences=True))\n",
    "model.add(Dropout(0.2))\n",
    "model.add(LSTM(units=128, return_sequences=True))\n",
    "model.add(Dropout(0.2))\n",
    "model.add(LSTM(units=64, return_sequences=True))\n",
    "model.add(TimeDistributed(Dense(1, activation='sigmoid')))\n",
    "optimizer = Adam(learning_rate=0.0001)\n",
    "model.compile(loss=\"binary_crossentropy\", optimizer=optimizer)\n",
    "\n",
    "model.fit(trainX, trainY, batch_size=1, epochs=epochs, validation_split=0.1, callbacks=[early_stopping])\n",
    "\n",
    "model.summary()"
   ]
  },
  {
   "cell_type": "code",
   "execution_count": 12,
   "metadata": {},
   "outputs": [
    {
     "name": "stdout",
     "output_type": "stream",
     "text": [
      "1895/1895 [==============================] - 11s 6ms/step - loss: 0.6638\n",
      "test loss, test acc: 0.6638248562812805\n"
     ]
    }
   ],
   "source": [
    "results = model.evaluate(testX, testY, batch_size=1)\n",
    "print('test loss, test acc:', results)"
   ]
  },
  {
   "cell_type": "code",
   "execution_count": 13,
   "metadata": {},
   "outputs": [
    {
     "name": "stdout",
     "output_type": "stream",
     "text": [
      "60/60 [==============================] - 2s 7ms/step\n"
     ]
    }
   ],
   "source": [
    "# 모델의 예측값을 계산합니다.\n",
    "y_hat = model.predict(testX)"
   ]
  },
  {
   "cell_type": "code",
   "execution_count": 46,
   "metadata": {},
   "outputs": [
    {
     "data": {
      "image/png": "[encoded data removed]",
      "text/plain": [
       "<Figure size 1200x600 with 1 Axes>"
      ]
     },
     "metadata": {},
     "output_type": "display_data"
    }
   ],
   "source": [
    "import numpy as np\n",
    "a_axis = np.arange(0, 25)\n",
    "prediction_per_minute_mean = None\n",
    "for i in range(len(testY)):\n",
    "    if testY[i][0] == 1:\n",
    "        if prediction_per_minute_mean is None:\n",
    "            prediction_per_minute_mean = y_hat[i].reshape(1, 25, 1)\n",
    "        else:\n",
    "            prediction_per_minute_mean = np.vstack((prediction_per_minute_mean, y_hat[i].reshape(1, 25, 1)))\n",
    "prediction_per_minute_mean = prediction_per_minute_mean.mean(axis=0)\n",
    "plt.figure(figsize=(12, 6))\n",
    "plt.plot(a_axis, prediction_per_minute_mean, 'o-', label='Blue Win', color='blue')\n",
    "plt.plot(a_axis, [1 - x for x in prediction_per_minute_mean], 'o-', label='Red Win', color='red')\n",
    "plt.ylim(0, 1)\n",
    "plt.legend()\n",
    "plt.show()\n",
    "\n"
   ]
  }
 ],
 "metadata": {
  "kernelspec": {
   "display_name": "Python 3",
   "language": "python",
   "name": "python3"
  },
  "language_info": {
   "codemirror_mode": {
    "name": "ipython",
    "version": 3
   },
   "file_extension": ".py",
   "mimetype": "text/x-python",
   "name": "python",
   "nbconvert_exporter": "python",
   "pygments_lexer": "ipython3",
   "version": "3.8.10"
  }
 },
 "nbformat": 4,
 "nbformat_minor": 2
}
